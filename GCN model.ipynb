{
  "nbformat": 4,
  "nbformat_minor": 0,
  "metadata": {
    "kernelspec": {
      "display_name": "Python 3",
      "language": "python",
      "name": "python3"
    },
    "language_info": {
      "codemirror_mode": {
        "name": "ipython",
        "version": 3
      },
      "file_extension": ".py",
      "mimetype": "text/x-python",
      "name": "python",
      "nbconvert_exporter": "python",
      "pygments_lexer": "ipython3",
      "version": "3.8.5"
    },
    "colab": {
      "name": "network.ipynb",
      "provenance": [],
      "collapsed_sections": [],
      "machine_shape": "hm"
    }
  },
  "cells": [
    {
      "cell_type": "code",
      "metadata": {
        "colab": {
          "base_uri": "https://localhost:8080/"
        },
        "id": "dbkZ8dsP96wK",
        "outputId": "be04d71f-25d4-4cfa-c73e-bb17820a0f68"
      },
      "source": [
        "from google.colab import drive\n",
        "drive.mount('/content/gdrive')\n",
        "import os\n",
        "cur_path = \"/content/gdrive/MyDrive/final_project/\"\n",
        "os.chdir(cur_path)\n",
        "!pwd"
      ],
      "execution_count": null,
      "outputs": [
        {
          "output_type": "stream",
          "text": [
            "Mounted at /content/gdrive\n",
            "/content/gdrive/MyDrive/final_project\n"
          ],
          "name": "stdout"
        }
      ]
    },
    {
      "cell_type": "code",
      "metadata": {
        "id": "IrOnlxML9uPu"
      },
      "source": [
        "import pandas as pd\n",
        "import numpy as np"
      ],
      "execution_count": null,
      "outputs": []
    },
    {
      "cell_type": "markdown",
      "metadata": {
        "id": "DWWaHMbYVdX9"
      },
      "source": [
        "### feature"
      ]
    },
    {
      "cell_type": "code",
      "metadata": {
        "id": "R1B5L1ilVe5m"
      },
      "source": [
        "feature = pd.read_csv('final_df.csv')"
      ],
      "execution_count": null,
      "outputs": []
    },
    {
      "cell_type": "code",
      "metadata": {
        "id": "AgoMqwQ2VltK",
        "colab": {
          "base_uri": "https://localhost:8080/"
        },
        "outputId": "7a08b5db-00cf-4967-bc5b-88ab9ca2e0ce"
      },
      "source": [
        "feature.shape"
      ],
      "execution_count": null,
      "outputs": [
        {
          "output_type": "execute_result",
          "data": {
            "text/plain": [
              "(295972, 41)"
            ]
          },
          "metadata": {
            "tags": []
          },
          "execution_count": 228
        }
      ]
    },
    {
      "cell_type": "code",
      "metadata": {
        "id": "ZT3UVye2VoXf",
        "colab": {
          "base_uri": "https://localhost:8080/",
          "height": 326
        },
        "outputId": "6da38173-2b4f-4ae6-91bc-76352acf1edd"
      },
      "source": [
        "feature.head()"
      ],
      "execution_count": null,
      "outputs": [
        {
          "output_type": "execute_result",
          "data": {
            "text/html": [
              "<div>\n",
              "<style scoped>\n",
              "    .dataframe tbody tr th:only-of-type {\n",
              "        vertical-align: middle;\n",
              "    }\n",
              "\n",
              "    .dataframe tbody tr th {\n",
              "        vertical-align: top;\n",
              "    }\n",
              "\n",
              "    .dataframe thead th {\n",
              "        text-align: right;\n",
              "    }\n",
              "</style>\n",
              "<table border=\"1\" class=\"dataframe\">\n",
              "  <thead>\n",
              "    <tr style=\"text-align: right;\">\n",
              "      <th></th>\n",
              "      <th>Unnamed: 0</th>\n",
              "      <th>user_id</th>\n",
              "      <th>cutoff</th>\n",
              "      <th>avatar</th>\n",
              "      <th>gendar</th>\n",
              "      <th>height</th>\n",
              "      <th>target_weight</th>\n",
              "      <th>lastdays</th>\n",
              "      <th>AvgPost</th>\n",
              "      <th>AvgComment</th>\n",
              "      <th>AvgMention</th>\n",
              "      <th>age</th>\n",
              "      <th>hasPost</th>\n",
              "      <th>hasComment</th>\n",
              "      <th>hasMention</th>\n",
              "      <th>hasHeight</th>\n",
              "      <th>hasWeightTarget</th>\n",
              "      <th>birthday</th>\n",
              "      <th>location</th>\n",
              "      <th>weight_x</th>\n",
              "      <th>target_date</th>\n",
              "      <th>latest_weight</th>\n",
              "      <th>bmi</th>\n",
              "      <th>created_at</th>\n",
              "      <th>calory_intake_freq</th>\n",
              "      <th>daily_post_count</th>\n",
              "      <th>daily_comment_count</th>\n",
              "      <th>spend_per_order</th>\n",
              "      <th>order_counts</th>\n",
              "      <th>weight_y</th>\n",
              "      <th>record_on</th>\n",
              "      <th>date</th>\n",
              "      <th>agerange</th>\n",
              "      <th>intake_back</th>\n",
              "      <th>post_back</th>\n",
              "      <th>comment_back</th>\n",
              "      <th>spend_back</th>\n",
              "      <th>order_back</th>\n",
              "      <th>max_date</th>\n",
              "      <th>weight_loss_max</th>\n",
              "      <th>label</th>\n",
              "    </tr>\n",
              "  </thead>\n",
              "  <tbody>\n",
              "    <tr>\n",
              "      <th>0</th>\n",
              "      <td>317</td>\n",
              "      <td>26</td>\n",
              "      <td>2013-05-31</td>\n",
              "      <td>0</td>\n",
              "      <td>2</td>\n",
              "      <td>162.0</td>\n",
              "      <td>52.0</td>\n",
              "      <td>596</td>\n",
              "      <td>0.0</td>\n",
              "      <td>0.0</td>\n",
              "      <td>0.0</td>\n",
              "      <td>28</td>\n",
              "      <td>0</td>\n",
              "      <td>0</td>\n",
              "      <td>0</td>\n",
              "      <td>1</td>\n",
              "      <td>1</td>\n",
              "      <td>1987-05-02</td>\n",
              "      <td>NaN</td>\n",
              "      <td>56.0</td>\n",
              "      <td>2013-12-12</td>\n",
              "      <td>62.0</td>\n",
              "      <td>21.34</td>\n",
              "      <td>2013-10-01 06:53:09</td>\n",
              "      <td>870.400000</td>\n",
              "      <td>2.315757</td>\n",
              "      <td>4.156579</td>\n",
              "      <td>42.087528</td>\n",
              "      <td>2.188645</td>\n",
              "      <td>62.0</td>\n",
              "      <td>2014-03-23</td>\n",
              "      <td>2014-03-27</td>\n",
              "      <td>29</td>\n",
              "      <td>870.400000</td>\n",
              "      <td>2.315757</td>\n",
              "      <td>4.156579</td>\n",
              "      <td>42.087528</td>\n",
              "      <td>2.188645</td>\n",
              "      <td>2014-03-23</td>\n",
              "      <td>6.0</td>\n",
              "      <td>1.0</td>\n",
              "    </tr>\n",
              "    <tr>\n",
              "      <th>1</th>\n",
              "      <td>330</td>\n",
              "      <td>474</td>\n",
              "      <td>2013-06-01</td>\n",
              "      <td>0</td>\n",
              "      <td>1</td>\n",
              "      <td>175.0</td>\n",
              "      <td>72.0</td>\n",
              "      <td>596</td>\n",
              "      <td>0.0</td>\n",
              "      <td>0.0</td>\n",
              "      <td>0.0</td>\n",
              "      <td>29</td>\n",
              "      <td>0</td>\n",
              "      <td>0</td>\n",
              "      <td>0</td>\n",
              "      <td>1</td>\n",
              "      <td>1</td>\n",
              "      <td>1986-10-08</td>\n",
              "      <td>NaN</td>\n",
              "      <td>79.0</td>\n",
              "      <td>2013-12-31</td>\n",
              "      <td>75.0</td>\n",
              "      <td>0.00</td>\n",
              "      <td>2013-10-01 07:24:56</td>\n",
              "      <td>1112.864586</td>\n",
              "      <td>1.659943</td>\n",
              "      <td>3.135706</td>\n",
              "      <td>23.333333</td>\n",
              "      <td>3.000000</td>\n",
              "      <td>75.0</td>\n",
              "      <td>2013-11-26</td>\n",
              "      <td>2014-09-21</td>\n",
              "      <td>29</td>\n",
              "      <td>1112.864586</td>\n",
              "      <td>1.659943</td>\n",
              "      <td>3.135706</td>\n",
              "      <td>23.333333</td>\n",
              "      <td>3.000000</td>\n",
              "      <td>2013-11-26</td>\n",
              "      <td>-4.0</td>\n",
              "      <td>0.0</td>\n",
              "    </tr>\n",
              "    <tr>\n",
              "      <th>2</th>\n",
              "      <td>348</td>\n",
              "      <td>964</td>\n",
              "      <td>2013-06-02</td>\n",
              "      <td>0</td>\n",
              "      <td>2</td>\n",
              "      <td>170.0</td>\n",
              "      <td>52.5</td>\n",
              "      <td>596</td>\n",
              "      <td>0.0</td>\n",
              "      <td>0.0</td>\n",
              "      <td>0.0</td>\n",
              "      <td>20</td>\n",
              "      <td>0</td>\n",
              "      <td>0</td>\n",
              "      <td>0</td>\n",
              "      <td>1</td>\n",
              "      <td>1</td>\n",
              "      <td>1995-11-03</td>\n",
              "      <td>NaN</td>\n",
              "      <td>55.0</td>\n",
              "      <td>2014-05-01</td>\n",
              "      <td>60.7</td>\n",
              "      <td>19.03</td>\n",
              "      <td>2013-10-01 07:32:15</td>\n",
              "      <td>1012.210526</td>\n",
              "      <td>2.221127</td>\n",
              "      <td>4.031142</td>\n",
              "      <td>36.091155</td>\n",
              "      <td>2.551160</td>\n",
              "      <td>60.7</td>\n",
              "      <td>2014-10-05</td>\n",
              "      <td>2014-10-15</td>\n",
              "      <td>19</td>\n",
              "      <td>1012.210526</td>\n",
              "      <td>2.221127</td>\n",
              "      <td>4.031142</td>\n",
              "      <td>36.091155</td>\n",
              "      <td>2.551160</td>\n",
              "      <td>2014-10-05</td>\n",
              "      <td>5.7</td>\n",
              "      <td>1.0</td>\n",
              "    </tr>\n",
              "    <tr>\n",
              "      <th>3</th>\n",
              "      <td>361</td>\n",
              "      <td>1677</td>\n",
              "      <td>2013-06-03</td>\n",
              "      <td>0</td>\n",
              "      <td>2</td>\n",
              "      <td>164.0</td>\n",
              "      <td>50.0</td>\n",
              "      <td>596</td>\n",
              "      <td>0.0</td>\n",
              "      <td>0.0</td>\n",
              "      <td>0.0</td>\n",
              "      <td>32</td>\n",
              "      <td>0</td>\n",
              "      <td>0</td>\n",
              "      <td>0</td>\n",
              "      <td>1</td>\n",
              "      <td>1</td>\n",
              "      <td>1983-06-10</td>\n",
              "      <td>NaN</td>\n",
              "      <td>55.0</td>\n",
              "      <td>2013-04-01</td>\n",
              "      <td>55.0</td>\n",
              "      <td>0.00</td>\n",
              "      <td>2013-10-01 07:50:38</td>\n",
              "      <td>1310.538462</td>\n",
              "      <td>3.210461</td>\n",
              "      <td>5.653811</td>\n",
              "      <td>36.346078</td>\n",
              "      <td>2.904192</td>\n",
              "      <td>55.0</td>\n",
              "      <td>2014-02-08</td>\n",
              "      <td>2014-02-08</td>\n",
              "      <td>39</td>\n",
              "      <td>1310.538462</td>\n",
              "      <td>3.210461</td>\n",
              "      <td>5.653811</td>\n",
              "      <td>36.346078</td>\n",
              "      <td>2.904192</td>\n",
              "      <td>2014-02-08</td>\n",
              "      <td>0.0</td>\n",
              "      <td>0.0</td>\n",
              "    </tr>\n",
              "    <tr>\n",
              "      <th>4</th>\n",
              "      <td>387</td>\n",
              "      <td>2529</td>\n",
              "      <td>2013-05-31</td>\n",
              "      <td>1</td>\n",
              "      <td>1</td>\n",
              "      <td>172.0</td>\n",
              "      <td>65.0</td>\n",
              "      <td>596</td>\n",
              "      <td>0.0</td>\n",
              "      <td>0.0</td>\n",
              "      <td>0.0</td>\n",
              "      <td>33</td>\n",
              "      <td>0</td>\n",
              "      <td>0</td>\n",
              "      <td>0</td>\n",
              "      <td>1</td>\n",
              "      <td>1</td>\n",
              "      <td>1982-10-11</td>\n",
              "      <td>NaN</td>\n",
              "      <td>90.0</td>\n",
              "      <td>2013-12-12</td>\n",
              "      <td>81.2</td>\n",
              "      <td>30.42</td>\n",
              "      <td>2013-10-01 08:13:36</td>\n",
              "      <td>1785.263547</td>\n",
              "      <td>2.126627</td>\n",
              "      <td>3.210011</td>\n",
              "      <td>38.580000</td>\n",
              "      <td>3.400000</td>\n",
              "      <td>81.2</td>\n",
              "      <td>2014-05-09</td>\n",
              "      <td>2014-07-21</td>\n",
              "      <td>39</td>\n",
              "      <td>1785.263547</td>\n",
              "      <td>2.126627</td>\n",
              "      <td>3.210011</td>\n",
              "      <td>38.580000</td>\n",
              "      <td>3.400000</td>\n",
              "      <td>2014-05-09</td>\n",
              "      <td>-8.8</td>\n",
              "      <td>0.0</td>\n",
              "    </tr>\n",
              "  </tbody>\n",
              "</table>\n",
              "</div>"
            ],
            "text/plain": [
              "   Unnamed: 0  user_id      cutoff  ...    max_date  weight_loss_max  label\n",
              "0         317       26  2013-05-31  ...  2014-03-23              6.0    1.0\n",
              "1         330      474  2013-06-01  ...  2013-11-26             -4.0    0.0\n",
              "2         348      964  2013-06-02  ...  2014-10-05              5.7    1.0\n",
              "3         361     1677  2013-06-03  ...  2014-02-08              0.0    0.0\n",
              "4         387     2529  2013-05-31  ...  2014-05-09             -8.8    0.0\n",
              "\n",
              "[5 rows x 41 columns]"
            ]
          },
          "metadata": {
            "tags": []
          },
          "execution_count": 229
        }
      ]
    },
    {
      "cell_type": "code",
      "metadata": {
        "id": "sTvOulSxVqVT"
      },
      "source": [
        "node = list(feature.user_id)"
      ],
      "execution_count": null,
      "outputs": []
    },
    {
      "cell_type": "code",
      "metadata": {
        "colab": {
          "base_uri": "https://localhost:8080/"
        },
        "id": "9HSv6MwsdQoI",
        "outputId": "cd956d70-842a-4a7a-94b6-25aa59c3c24a"
      },
      "source": [
        "feature.shape"
      ],
      "execution_count": null,
      "outputs": [
        {
          "output_type": "execute_result",
          "data": {
            "text/plain": [
              "(295972, 41)"
            ]
          },
          "metadata": {
            "tags": []
          },
          "execution_count": 231
        }
      ]
    },
    {
      "cell_type": "code",
      "metadata": {
        "id": "o8m0FhuAdqni"
      },
      "source": [
        "feature['new_label'] = feature['weight_loss_max'].apply(lambda x: 1 if x<0 else 0)"
      ],
      "execution_count": null,
      "outputs": []
    },
    {
      "cell_type": "code",
      "metadata": {
        "colab": {
          "base_uri": "https://localhost:8080/"
        },
        "id": "0rC_gkeLd6MU",
        "outputId": "97217d72-0e9c-4561-8d9b-db4c1e479265"
      },
      "source": [
        "feature.new_label.mean()"
      ],
      "execution_count": null,
      "outputs": [
        {
          "output_type": "execute_result",
          "data": {
            "text/plain": [
              "0.5283979565634587"
            ]
          },
          "metadata": {
            "tags": []
          },
          "execution_count": 233
        }
      ]
    },
    {
      "cell_type": "code",
      "metadata": {
        "colab": {
          "base_uri": "https://localhost:8080/"
        },
        "id": "qTvMIilme8Ng",
        "outputId": "f1510a45-283a-46f8-b020-3c27b6de5ec2"
      },
      "source": [
        "feature.lastdays.mean()"
      ],
      "execution_count": null,
      "outputs": [
        {
          "output_type": "execute_result",
          "data": {
            "text/plain": [
              "432.9078493911586"
            ]
          },
          "metadata": {
            "tags": []
          },
          "execution_count": 234
        }
      ]
    },
    {
      "cell_type": "markdown",
      "metadata": {
        "id": "Hb8mg-Pe9uP3"
      },
      "source": [
        "### friend"
      ]
    },
    {
      "cell_type": "code",
      "metadata": {
        "id": "U4fUOAC89uP3"
      },
      "source": [
        "friend = pd.read_csv('WeightLoss/network/friend_consolidated.csv')"
      ],
      "execution_count": null,
      "outputs": []
    },
    {
      "cell_type": "code",
      "metadata": {
        "colab": {
          "base_uri": "https://localhost:8080/",
          "height": 202
        },
        "id": "hUuEzY9x9uP4",
        "outputId": "45e01bcf-32bf-4a98-8480-35484a2ce304"
      },
      "source": [
        "friend.head()"
      ],
      "execution_count": null,
      "outputs": [
        {
          "output_type": "execute_result",
          "data": {
            "text/html": [
              "<div>\n",
              "<style scoped>\n",
              "    .dataframe tbody tr th:only-of-type {\n",
              "        vertical-align: middle;\n",
              "    }\n",
              "\n",
              "    .dataframe tbody tr th {\n",
              "        vertical-align: top;\n",
              "    }\n",
              "\n",
              "    .dataframe thead th {\n",
              "        text-align: right;\n",
              "    }\n",
              "</style>\n",
              "<table border=\"1\" class=\"dataframe\">\n",
              "  <thead>\n",
              "    <tr style=\"text-align: right;\">\n",
              "      <th></th>\n",
              "      <th>user_id</th>\n",
              "      <th>follower_id</th>\n",
              "      <th>date</th>\n",
              "    </tr>\n",
              "  </thead>\n",
              "  <tbody>\n",
              "    <tr>\n",
              "      <th>0</th>\n",
              "      <td>121</td>\n",
              "      <td>143</td>\n",
              "      <td>2013-09-30</td>\n",
              "    </tr>\n",
              "    <tr>\n",
              "      <th>1</th>\n",
              "      <td>121</td>\n",
              "      <td>166</td>\n",
              "      <td>2013-09-30</td>\n",
              "    </tr>\n",
              "    <tr>\n",
              "      <th>2</th>\n",
              "      <td>143</td>\n",
              "      <td>33</td>\n",
              "      <td>2013-09-30</td>\n",
              "    </tr>\n",
              "    <tr>\n",
              "      <th>3</th>\n",
              "      <td>33</td>\n",
              "      <td>143</td>\n",
              "      <td>2013-09-30</td>\n",
              "    </tr>\n",
              "    <tr>\n",
              "      <th>4</th>\n",
              "      <td>166</td>\n",
              "      <td>143</td>\n",
              "      <td>2013-09-30</td>\n",
              "    </tr>\n",
              "  </tbody>\n",
              "</table>\n",
              "</div>"
            ],
            "text/plain": [
              "   user_id  follower_id        date\n",
              "0      121          143  2013-09-30\n",
              "1      121          166  2013-09-30\n",
              "2      143           33  2013-09-30\n",
              "3       33          143  2013-09-30\n",
              "4      166          143  2013-09-30"
            ]
          },
          "metadata": {
            "tags": []
          },
          "execution_count": 236
        }
      ]
    },
    {
      "cell_type": "code",
      "metadata": {
        "id": "bZBfcBxv4igY"
      },
      "source": [
        "friend['date'] = pd.to_datetime(friend['date'])  "
      ],
      "execution_count": null,
      "outputs": []
    },
    {
      "cell_type": "code",
      "metadata": {
        "colab": {
          "base_uri": "https://localhost:8080/",
          "height": 202
        },
        "id": "7CYiEveg44IC",
        "outputId": "9a315f5e-a97b-4840-ab32-bd3e1e34d5c7"
      },
      "source": [
        "friend.head()"
      ],
      "execution_count": null,
      "outputs": [
        {
          "output_type": "execute_result",
          "data": {
            "text/html": [
              "<div>\n",
              "<style scoped>\n",
              "    .dataframe tbody tr th:only-of-type {\n",
              "        vertical-align: middle;\n",
              "    }\n",
              "\n",
              "    .dataframe tbody tr th {\n",
              "        vertical-align: top;\n",
              "    }\n",
              "\n",
              "    .dataframe thead th {\n",
              "        text-align: right;\n",
              "    }\n",
              "</style>\n",
              "<table border=\"1\" class=\"dataframe\">\n",
              "  <thead>\n",
              "    <tr style=\"text-align: right;\">\n",
              "      <th></th>\n",
              "      <th>user_id</th>\n",
              "      <th>follower_id</th>\n",
              "      <th>date</th>\n",
              "    </tr>\n",
              "  </thead>\n",
              "  <tbody>\n",
              "    <tr>\n",
              "      <th>0</th>\n",
              "      <td>121</td>\n",
              "      <td>143</td>\n",
              "      <td>2013-09-30</td>\n",
              "    </tr>\n",
              "    <tr>\n",
              "      <th>1</th>\n",
              "      <td>121</td>\n",
              "      <td>166</td>\n",
              "      <td>2013-09-30</td>\n",
              "    </tr>\n",
              "    <tr>\n",
              "      <th>2</th>\n",
              "      <td>143</td>\n",
              "      <td>33</td>\n",
              "      <td>2013-09-30</td>\n",
              "    </tr>\n",
              "    <tr>\n",
              "      <th>3</th>\n",
              "      <td>33</td>\n",
              "      <td>143</td>\n",
              "      <td>2013-09-30</td>\n",
              "    </tr>\n",
              "    <tr>\n",
              "      <th>4</th>\n",
              "      <td>166</td>\n",
              "      <td>143</td>\n",
              "      <td>2013-09-30</td>\n",
              "    </tr>\n",
              "  </tbody>\n",
              "</table>\n",
              "</div>"
            ],
            "text/plain": [
              "   user_id  follower_id       date\n",
              "0      121          143 2013-09-30\n",
              "1      121          166 2013-09-30\n",
              "2      143           33 2013-09-30\n",
              "3       33          143 2013-09-30\n",
              "4      166          143 2013-09-30"
            ]
          },
          "metadata": {
            "tags": []
          },
          "execution_count": 120
        }
      ]
    },
    {
      "cell_type": "code",
      "metadata": {
        "id": "NOBtdwEtCI6j"
      },
      "source": [
        "friend_filter = friend[friend.user_id.isin(node) & friend.follower_id.isin(node)]"
      ],
      "execution_count": null,
      "outputs": []
    },
    {
      "cell_type": "code",
      "metadata": {
        "id": "h_edteftDepR"
      },
      "source": [
        "friend_final = friend_filter[friend_filter['date'] <= '2014-01-01']"
      ],
      "execution_count": null,
      "outputs": []
    },
    {
      "cell_type": "code",
      "metadata": {
        "colab": {
          "base_uri": "https://localhost:8080/"
        },
        "id": "EQPrvmEkj5rh",
        "outputId": "5c8ccea6-f342-43e4-cc8a-1f20a205128a"
      },
      "source": [
        "friend_filter.shape"
      ],
      "execution_count": null,
      "outputs": [
        {
          "output_type": "execute_result",
          "data": {
            "text/plain": [
              "(2552582, 3)"
            ]
          },
          "metadata": {
            "tags": []
          },
          "execution_count": 123
        }
      ]
    },
    {
      "cell_type": "code",
      "metadata": {
        "colab": {
          "base_uri": "https://localhost:8080/"
        },
        "id": "paK5V--tEHpo",
        "outputId": "59e274ee-0535-42ce-f88d-28c606e0ecc4"
      },
      "source": [
        "friend_final.shape"
      ],
      "execution_count": null,
      "outputs": [
        {
          "output_type": "execute_result",
          "data": {
            "text/plain": [
              "(1002676, 3)"
            ]
          },
          "metadata": {
            "tags": []
          },
          "execution_count": 124
        }
      ]
    },
    {
      "cell_type": "markdown",
      "metadata": {
        "id": "0Bs9ZNNjT6tq"
      },
      "source": [
        "NetworkX"
      ]
    },
    {
      "cell_type": "code",
      "metadata": {
        "id": "SP-VCyJ8Txpo"
      },
      "source": [
        "import networkx as nx\n",
        "Graphtype = nx.DiGraph()\n",
        "G = nx.from_pandas_edgelist(friend_final, create_using=Graphtype,source='user_id',target='follower_id')"
      ],
      "execution_count": null,
      "outputs": []
    },
    {
      "cell_type": "code",
      "metadata": {
        "id": "HCzi_2PCovV8"
      },
      "source": [
        "import networkx as nx\n",
        "Graphtype = nx.DiGraph()\n",
        "G = nx.from_pandas_edgelist(friend_filter, create_using=Graphtype,source='user_id',target='follower_id')"
      ],
      "execution_count": null,
      "outputs": []
    },
    {
      "cell_type": "code",
      "metadata": {
        "id": "ZcxnnsABUOmX",
        "colab": {
          "base_uri": "https://localhost:8080/"
        },
        "outputId": "a2ec060c-92c9-4e42-97f3-a744febffc7e"
      },
      "source": [
        "print(G.number_of_nodes())\n",
        "print(G.number_of_edges())"
      ],
      "execution_count": null,
      "outputs": [
        {
          "output_type": "stream",
          "text": [
            "163278\n",
            "2552582\n"
          ],
          "name": "stdout"
        }
      ]
    },
    {
      "cell_type": "code",
      "metadata": {
        "id": "2lifY66KUpUZ"
      },
      "source": [
        "node_list = list(G.nodes())"
      ],
      "execution_count": null,
      "outputs": []
    },
    {
      "cell_type": "code",
      "metadata": {
        "colab": {
          "base_uri": "https://localhost:8080/"
        },
        "id": "-niReM5Vt_Qi",
        "outputId": "b89d1949-4d51-49fd-c779-aa3b455c21f1"
      },
      "source": [
        "len(node_list)"
      ],
      "execution_count": null,
      "outputs": [
        {
          "output_type": "execute_result",
          "data": {
            "text/plain": [
              "163278"
            ]
          },
          "metadata": {
            "tags": []
          },
          "execution_count": 241
        }
      ]
    },
    {
      "cell_type": "code",
      "metadata": {
        "id": "wjpiLHVWuCyo"
      },
      "source": [
        "remove = [node for node,degree in dict(G.degree()).items() if degree <5]"
      ],
      "execution_count": null,
      "outputs": []
    },
    {
      "cell_type": "code",
      "metadata": {
        "id": "qfLZGxxdubEN"
      },
      "source": [
        "G.remove_nodes_from(remove)"
      ],
      "execution_count": null,
      "outputs": []
    },
    {
      "cell_type": "code",
      "metadata": {
        "colab": {
          "base_uri": "https://localhost:8080/"
        },
        "id": "oyUNseu9udJg",
        "outputId": "bf3020c9-c527-448b-8221-0193fd414a33"
      },
      "source": [
        "node_list = list(G.nodes())\n",
        "len(node_list)"
      ],
      "execution_count": null,
      "outputs": [
        {
          "output_type": "execute_result",
          "data": {
            "text/plain": [
              "104006"
            ]
          },
          "metadata": {
            "tags": []
          },
          "execution_count": 244
        }
      ]
    },
    {
      "cell_type": "markdown",
      "metadata": {
        "id": "hMDDYySOWQQP"
      },
      "source": [
        "\n",
        "### Extract feature"
      ]
    },
    {
      "cell_type": "code",
      "metadata": {
        "id": "xubxZS7CGePb"
      },
      "source": [
        "feature = feature.set_index('user_id')"
      ],
      "execution_count": null,
      "outputs": []
    },
    {
      "cell_type": "code",
      "metadata": {
        "id": "8i1y_vfWEnJl"
      },
      "source": [
        "feature = feature.reindex(node_list)"
      ],
      "execution_count": null,
      "outputs": []
    },
    {
      "cell_type": "code",
      "metadata": {
        "colab": {
          "base_uri": "https://localhost:8080/"
        },
        "id": "-Gi_HTVSfjt8",
        "outputId": "d3758535-20d5-4e32-8e8b-172e812d15ac"
      },
      "source": [
        "feature.columns"
      ],
      "execution_count": null,
      "outputs": [
        {
          "output_type": "execute_result",
          "data": {
            "text/plain": [
              "Index(['Unnamed: 0', 'cutoff', 'avatar', 'gendar', 'height', 'target_weight',\n",
              "       'lastdays', 'AvgPost', 'AvgComment', 'AvgMention', 'age', 'hasPost',\n",
              "       'hasComment', 'hasMention', 'hasHeight', 'hasWeightTarget', 'birthday',\n",
              "       'location', 'weight_x', 'target_date', 'latest_weight', 'bmi',\n",
              "       'created_at', 'calory_intake_freq', 'daily_post_count',\n",
              "       'daily_comment_count', 'spend_per_order', 'order_counts', 'weight_y',\n",
              "       'record_on', 'date', 'agerange', 'intake_back', 'post_back',\n",
              "       'comment_back', 'spend_back', 'order_back', 'max_date',\n",
              "       'weight_loss_max', 'label', 'new_label'],\n",
              "      dtype='object')"
            ]
          },
          "metadata": {
            "tags": []
          },
          "execution_count": 247
        }
      ]
    },
    {
      "cell_type": "code",
      "metadata": {
        "id": "xXqQ5j3vp-Tk"
      },
      "source": [
        "feature.to_csv('feature.csv')"
      ],
      "execution_count": null,
      "outputs": []
    },
    {
      "cell_type": "code",
      "metadata": {
        "id": "Tq_PfvXxt7zw"
      },
      "source": [
        "fe = feature[['gendar','age','bmi','weight_x',\n",
        "              'calory_intake_freq','daily_post_count','daily_comment_count',\n",
        "              'AvgPost', 'AvgComment', 'AvgMention',\n",
        "              'spend_per_order','order_counts',\n",
        "              'hasWeightTarget']]"
      ],
      "execution_count": null,
      "outputs": []
    },
    {
      "cell_type": "code",
      "metadata": {
        "id": "A8-5Ma5bzAwd"
      },
      "source": [
        "fe = feature[['gendar','age','bmi','weight_x',\n",
        "              'hasWeightTarget',\n",
        "              'AvgPost', 'AvgComment', 'AvgMention']]"
      ],
      "execution_count": null,
      "outputs": []
    },
    {
      "cell_type": "code",
      "metadata": {
        "colab": {
          "base_uri": "https://localhost:8080/",
          "height": 233
        },
        "id": "0mUrCT1ayCrf",
        "outputId": "9c7817a9-291f-49d2-ba52-14653a583ecf"
      },
      "source": [
        "fe.head()"
      ],
      "execution_count": null,
      "outputs": [
        {
          "output_type": "execute_result",
          "data": {
            "text/html": [
              "<div>\n",
              "<style scoped>\n",
              "    .dataframe tbody tr th:only-of-type {\n",
              "        vertical-align: middle;\n",
              "    }\n",
              "\n",
              "    .dataframe tbody tr th {\n",
              "        vertical-align: top;\n",
              "    }\n",
              "\n",
              "    .dataframe thead th {\n",
              "        text-align: right;\n",
              "    }\n",
              "</style>\n",
              "<table border=\"1\" class=\"dataframe\">\n",
              "  <thead>\n",
              "    <tr style=\"text-align: right;\">\n",
              "      <th></th>\n",
              "      <th>gendar</th>\n",
              "      <th>age</th>\n",
              "      <th>bmi</th>\n",
              "      <th>weight_x</th>\n",
              "      <th>hasWeightTarget</th>\n",
              "      <th>AvgPost</th>\n",
              "      <th>AvgComment</th>\n",
              "      <th>AvgMention</th>\n",
              "    </tr>\n",
              "    <tr>\n",
              "      <th>user_id</th>\n",
              "      <th></th>\n",
              "      <th></th>\n",
              "      <th></th>\n",
              "      <th></th>\n",
              "      <th></th>\n",
              "      <th></th>\n",
              "      <th></th>\n",
              "      <th></th>\n",
              "    </tr>\n",
              "  </thead>\n",
              "  <tbody>\n",
              "    <tr>\n",
              "      <th>121</th>\n",
              "      <td>1</td>\n",
              "      <td>26</td>\n",
              "      <td>26.73</td>\n",
              "      <td>80.0</td>\n",
              "      <td>1</td>\n",
              "      <td>0.309</td>\n",
              "      <td>0.619</td>\n",
              "      <td>0.413</td>\n",
              "    </tr>\n",
              "    <tr>\n",
              "      <th>143</th>\n",
              "      <td>1</td>\n",
              "      <td>32</td>\n",
              "      <td>27.92</td>\n",
              "      <td>76.0</td>\n",
              "      <td>1</td>\n",
              "      <td>0.042</td>\n",
              "      <td>0.067</td>\n",
              "      <td>0.037</td>\n",
              "    </tr>\n",
              "    <tr>\n",
              "      <th>98119</th>\n",
              "      <td>2</td>\n",
              "      <td>32</td>\n",
              "      <td>25.39</td>\n",
              "      <td>65.0</td>\n",
              "      <td>1</td>\n",
              "      <td>0.129</td>\n",
              "      <td>0.348</td>\n",
              "      <td>0.073</td>\n",
              "    </tr>\n",
              "    <tr>\n",
              "      <th>139824</th>\n",
              "      <td>2</td>\n",
              "      <td>28</td>\n",
              "      <td>21.94</td>\n",
              "      <td>61.2</td>\n",
              "      <td>1</td>\n",
              "      <td>0.024</td>\n",
              "      <td>0.009</td>\n",
              "      <td>0.000</td>\n",
              "    </tr>\n",
              "    <tr>\n",
              "      <th>150458</th>\n",
              "      <td>2</td>\n",
              "      <td>19</td>\n",
              "      <td>23.15</td>\n",
              "      <td>60.0</td>\n",
              "      <td>1</td>\n",
              "      <td>0.106</td>\n",
              "      <td>0.050</td>\n",
              "      <td>0.014</td>\n",
              "    </tr>\n",
              "  </tbody>\n",
              "</table>\n",
              "</div>"
            ],
            "text/plain": [
              "         gendar  age    bmi  ...  AvgPost  AvgComment  AvgMention\n",
              "user_id                      ...                                 \n",
              "121           1   26  26.73  ...    0.309       0.619       0.413\n",
              "143           1   32  27.92  ...    0.042       0.067       0.037\n",
              "98119         2   32  25.39  ...    0.129       0.348       0.073\n",
              "139824        2   28  21.94  ...    0.024       0.009       0.000\n",
              "150458        2   19  23.15  ...    0.106       0.050       0.014\n",
              "\n",
              "[5 rows x 8 columns]"
            ]
          },
          "metadata": {
            "tags": []
          },
          "execution_count": 250
        }
      ]
    },
    {
      "cell_type": "code",
      "metadata": {
        "id": "dMVs9o123A5M"
      },
      "source": [
        "from sklearn.preprocessing import MinMaxScaler\n",
        "\n",
        "scaler = MinMaxScaler() \n",
        "arr_scaled = scaler.fit_transform(fe) "
      ],
      "execution_count": null,
      "outputs": []
    },
    {
      "cell_type": "code",
      "metadata": {
        "colab": {
          "base_uri": "https://localhost:8080/"
        },
        "id": "51WGIhyv3Z3s",
        "outputId": "780e968d-207f-48e5-c834-950b8c9fd8bf"
      },
      "source": [
        "arr_scaled.shape"
      ],
      "execution_count": null,
      "outputs": [
        {
          "output_type": "execute_result",
          "data": {
            "text/plain": [
              "(104006, 8)"
            ]
          },
          "metadata": {
            "tags": []
          },
          "execution_count": 252
        }
      ]
    },
    {
      "cell_type": "code",
      "metadata": {
        "id": "JHO2ss-RvFX5"
      },
      "source": [
        "fe = np.array(fe)"
      ],
      "execution_count": null,
      "outputs": []
    },
    {
      "cell_type": "code",
      "metadata": {
        "colab": {
          "base_uri": "https://localhost:8080/"
        },
        "id": "9CVs5AIovPJY",
        "outputId": "53c1e0b2-33fd-45d8-f904-457abbb0d88d"
      },
      "source": [
        "fe.shape"
      ],
      "execution_count": null,
      "outputs": [
        {
          "output_type": "execute_result",
          "data": {
            "text/plain": [
              "(104006, 8)"
            ]
          },
          "metadata": {
            "tags": []
          },
          "execution_count": 254
        }
      ]
    },
    {
      "cell_type": "code",
      "metadata": {
        "colab": {
          "base_uri": "https://localhost:8080/"
        },
        "id": "pLMzK1BDdlnw",
        "outputId": "77922c78-c44d-4064-a61d-deaa4874b3dd"
      },
      "source": [
        "!pip install -q torch-scatter -f https://pytorch-geometric.com/whl/torch-1.8.0+cu101.html\n",
        "!pip install -q torch-sparse -f https://pytorch-geometric.com/whl/torch-1.8.0+cu101.html\n",
        "!pip install -q torch-geometric"
      ],
      "execution_count": null,
      "outputs": [
        {
          "output_type": "stream",
          "text": [
            "\u001b[K     |████████████████████████████████| 2.6MB 4.4MB/s \n",
            "\u001b[K     |████████████████████████████████| 1.5MB 4.6MB/s \n",
            "\u001b[K     |████████████████████████████████| 215kB 6.5MB/s \n",
            "\u001b[K     |████████████████████████████████| 235kB 9.0MB/s \n",
            "\u001b[K     |████████████████████████████████| 2.2MB 10.3MB/s \n",
            "\u001b[K     |████████████████████████████████| 51kB 4.7MB/s \n",
            "\u001b[?25h  Building wheel for torch-geometric (setup.py) ... \u001b[?25l\u001b[?25hdone\n"
          ],
          "name": "stdout"
        }
      ]
    },
    {
      "cell_type": "code",
      "metadata": {
        "id": "RqWEAyoddICv"
      },
      "source": [
        "from typing import Optional, Tuple\n",
        "\n",
        "import torch\n",
        "from torch import Tensor\n",
        "from torch.utils.dlpack import to_dlpack, from_dlpack\n",
        "import scipy.sparse\n",
        "import networkx as nx\n",
        "\n",
        "import torch_geometric.data\n"
      ],
      "execution_count": null,
      "outputs": []
    },
    {
      "cell_type": "code",
      "metadata": {
        "id": "LIZEEa7AfLWI"
      },
      "source": [
        "test = torch_geometric.utils.convert.from_networkx(G)"
      ],
      "execution_count": null,
      "outputs": []
    },
    {
      "cell_type": "code",
      "metadata": {
        "colab": {
          "base_uri": "https://localhost:8080/"
        },
        "id": "EzxUu0UWwE2I",
        "outputId": "ed2ea7f5-9171-479c-ea63-209edd73b68e"
      },
      "source": [
        "test"
      ],
      "execution_count": null,
      "outputs": [
        {
          "output_type": "execute_result",
          "data": {
            "text/plain": [
              "Data(edge_index=[2, 2426793])"
            ]
          },
          "metadata": {
            "tags": []
          },
          "execution_count": 256
        }
      ]
    },
    {
      "cell_type": "code",
      "metadata": {
        "colab": {
          "base_uri": "https://localhost:8080/"
        },
        "id": "FZZrlyHPwHVO",
        "outputId": "c1cbb2a9-00dd-4855-a398-13dd2dbb5e41"
      },
      "source": [
        "test.edge_index"
      ],
      "execution_count": null,
      "outputs": [
        {
          "output_type": "execute_result",
          "data": {
            "text/plain": [
              "tensor([[     0,      0,      0,  ..., 104001, 104001, 104001],\n",
              "        [     1,      2,      4,  ...,  46268,  78976,  61377]])"
            ]
          },
          "metadata": {
            "tags": []
          },
          "execution_count": 257
        }
      ]
    },
    {
      "cell_type": "code",
      "metadata": {
        "id": "RgoppA8vwqKS"
      },
      "source": [
        "x = torch.tensor(fe, dtype=torch.float)"
      ],
      "execution_count": null,
      "outputs": []
    },
    {
      "cell_type": "code",
      "metadata": {
        "id": "x6Vyvm8P3xAG"
      },
      "source": [
        "x = torch.tensor(arr_scaled, dtype=torch.float)"
      ],
      "execution_count": null,
      "outputs": []
    },
    {
      "cell_type": "code",
      "metadata": {
        "id": "08eeX6G8mA9c"
      },
      "source": [
        "test.x = x"
      ],
      "execution_count": null,
      "outputs": []
    },
    {
      "cell_type": "code",
      "metadata": {
        "colab": {
          "base_uri": "https://localhost:8080/"
        },
        "id": "T8gn4O8jxk4e",
        "outputId": "90b9e8b0-17a4-42d8-dc6a-5e590e082454"
      },
      "source": [
        "test"
      ],
      "execution_count": null,
      "outputs": [
        {
          "output_type": "execute_result",
          "data": {
            "text/plain": [
              "Data(edge_index=[2, 2426793], x=[104006, 8])"
            ]
          },
          "metadata": {
            "tags": []
          },
          "execution_count": 260
        }
      ]
    },
    {
      "cell_type": "code",
      "metadata": {
        "colab": {
          "base_uri": "https://localhost:8080/"
        },
        "id": "Cw2Rva1FxnlP",
        "outputId": "4ca152f9-80cc-476d-eb6e-d1655a98d115"
      },
      "source": [
        "test.is_directed()"
      ],
      "execution_count": null,
      "outputs": [
        {
          "output_type": "execute_result",
          "data": {
            "text/plain": [
              "True"
            ]
          },
          "metadata": {
            "tags": []
          },
          "execution_count": 261
        }
      ]
    },
    {
      "cell_type": "code",
      "metadata": {
        "id": "L3wBIVyGxAh7"
      },
      "source": [
        "label = feature.new_label.values"
      ],
      "execution_count": null,
      "outputs": []
    },
    {
      "cell_type": "code",
      "metadata": {
        "colab": {
          "base_uri": "https://localhost:8080/"
        },
        "id": "bdhbNkt7xhNG",
        "outputId": "5d8016bd-ed2b-4c2d-c364-e6fbe4f30db9"
      },
      "source": [
        "label.shape"
      ],
      "execution_count": null,
      "outputs": [
        {
          "output_type": "execute_result",
          "data": {
            "text/plain": [
              "(104006,)"
            ]
          },
          "metadata": {
            "tags": []
          },
          "execution_count": 263
        }
      ]
    },
    {
      "cell_type": "code",
      "metadata": {
        "colab": {
          "base_uri": "https://localhost:8080/"
        },
        "id": "Cynlslmvycme",
        "outputId": "9edb77f4-31c1-45b4-adb4-241d092f9213"
      },
      "source": [
        "sum(label)"
      ],
      "execution_count": null,
      "outputs": [
        {
          "output_type": "execute_result",
          "data": {
            "text/plain": [
              "58528"
            ]
          },
          "metadata": {
            "tags": []
          },
          "execution_count": 264
        }
      ]
    },
    {
      "cell_type": "code",
      "metadata": {
        "id": "W0lVTNyxxo-K"
      },
      "source": [
        "test.y = torch.tensor(label,dtype=torch.long)"
      ],
      "execution_count": null,
      "outputs": []
    },
    {
      "cell_type": "code",
      "metadata": {
        "id": "k_5RJIIrxwOb"
      },
      "source": [
        "test.train_mask = torch.tensor([1]*72804+[0]*31202, dtype=torch.bool)\n",
        "test.test_mask = torch.tensor([0]*72804+[1]*15601+[0]*15601, dtype=torch.bool)\n",
        "test.val_mask = torch.tensor([0]*72804 + [1]*31202, dtype=torch.bool)"
      ],
      "execution_count": null,
      "outputs": []
    },
    {
      "cell_type": "code",
      "metadata": {
        "colab": {
          "base_uri": "https://localhost:8080/"
        },
        "id": "oVEiK387IK-Y",
        "outputId": "6d1f4d17-169a-467a-9089-8304df59fdfd"
      },
      "source": [
        "label[-15601:].mean()"
      ],
      "execution_count": null,
      "outputs": [
        {
          "output_type": "execute_result",
          "data": {
            "text/plain": [
              "0.6303442087045702"
            ]
          },
          "metadata": {
            "tags": []
          },
          "execution_count": 267
        }
      ]
    },
    {
      "cell_type": "code",
      "metadata": {
        "id": "j2L6Fr2Ix0l3"
      },
      "source": [
        "#test.y = torch.tensor([1,0,1,1,1,0,1,0], dtype=torch.long)\n",
        "#test.train_mask = torch.tensor([1,1,1,0,0,0,0,0], dtype=torch.bool)\n",
        "#test.val_mask = torch.tensor([0,0,0,1,1,0,0,0], dtype=torch.bool)\n",
        "#test.test_mask = torch.tensor([0,0,0,0,0,1,1,1], dtype=torch.bool)"
      ],
      "execution_count": null,
      "outputs": []
    },
    {
      "cell_type": "code",
      "metadata": {
        "colab": {
          "base_uri": "https://localhost:8080/"
        },
        "id": "ElEbhvdsyX2S",
        "outputId": "f12ffe9c-9214-47d9-c936-2811e43e50e9"
      },
      "source": [
        "test"
      ],
      "execution_count": null,
      "outputs": [
        {
          "output_type": "execute_result",
          "data": {
            "text/plain": [
              "Data(edge_index=[2, 2426793], test_mask=[104006], train_mask=[104006], val_mask=[104006], x=[104006, 8], y=[104006])"
            ]
          },
          "metadata": {
            "tags": []
          },
          "execution_count": 268
        }
      ]
    },
    {
      "cell_type": "code",
      "metadata": {
        "colab": {
          "base_uri": "https://localhost:8080/"
        },
        "id": "cxgI17UgAaws",
        "outputId": "0da57999-4127-47d3-a1cc-13c52a44198a"
      },
      "source": [
        "test.num_node_features"
      ],
      "execution_count": null,
      "outputs": [
        {
          "output_type": "execute_result",
          "data": {
            "text/plain": [
              "8"
            ]
          },
          "metadata": {
            "tags": []
          },
          "execution_count": 269
        }
      ]
    },
    {
      "cell_type": "code",
      "metadata": {
        "colab": {
          "base_uri": "https://localhost:8080/"
        },
        "id": "KegcCFezhUH6",
        "outputId": "40e2742a-00a8-4a34-8616-5186340c5abf"
      },
      "source": [
        "import os.path as osp\n",
        "\n",
        "import torch\n",
        "import torch.nn.functional as F\n",
        "from torch_geometric.datasets import Planetoid\n",
        "from torch_geometric.nn import SGConv\n",
        "\n",
        "class Net(torch.nn.Module):\n",
        "    def __init__(self):\n",
        "        super(Net, self).__init__()\n",
        "        self.conv1 = SGConv(\n",
        "            test.num_features, 2, K=5, cached=True)\n",
        "\n",
        "    def forward(self):\n",
        "        x, edge_index = data.x, data.edge_index\n",
        "        x = self.conv1(x, edge_index)\n",
        "        return F.log_softmax(x, dim=1)\n",
        "\n",
        "\n",
        "device = torch.device('cuda' if torch.cuda.is_available() else 'cpu')\n",
        "model, data = Net().to(device), test.to(device)\n",
        "optimizer = torch.optim.Adam(model.parameters(), lr=0.0001, weight_decay=5e-4)\n",
        "\n",
        "\n",
        "def train():\n",
        "    model.train()\n",
        "    optimizer.zero_grad()\n",
        "    F.nll_loss(model()[data.train_mask], data.y[data.train_mask]).backward()\n",
        "    optimizer.step()\n",
        "\n",
        "\n",
        "def test():\n",
        "    model.eval()\n",
        "    logits, accs = model(), []\n",
        "    for _, mask in data('train_mask', 'val_mask', 'test_mask'):\n",
        "        pred = logits[mask].max(1)[1]\n",
        "        acc = pred.eq(data.y[mask]).sum().item() / mask.sum().item()\n",
        "        accs.append(acc)\n",
        "    return accs\n",
        "\n",
        "\n",
        "best_val_acc = test_acc = 0\n",
        "for epoch in range(1, 101):\n",
        "    train()\n",
        "    train_acc, val_acc, tmp_test_acc = test()\n",
        "    if val_acc > best_val_acc:\n",
        "        best_val_acc = val_acc\n",
        "        test_acc = tmp_test_acc\n",
        "    log = 'Epoch: {:03d}, Train: {:.4f}, Val: {:.4f}, Test: {:.4f}'\n",
        "    print(log.format(epoch, train_acc, best_val_acc, test_acc))"
      ],
      "execution_count": null,
      "outputs": [
        {
          "output_type": "stream",
          "text": [
            "Epoch: 001, Train: 0.4533, Val: 0.3997, Test: 0.4298\n",
            "Epoch: 002, Train: 0.4533, Val: 0.3997, Test: 0.4298\n",
            "Epoch: 003, Train: 0.4533, Val: 0.3997, Test: 0.4298\n",
            "Epoch: 004, Train: 0.4533, Val: 0.3997, Test: 0.4298\n",
            "Epoch: 005, Train: 0.4533, Val: 0.3997, Test: 0.4298\n",
            "Epoch: 006, Train: 0.4533, Val: 0.3997, Test: 0.4298\n",
            "Epoch: 007, Train: 0.4533, Val: 0.3997, Test: 0.4298\n",
            "Epoch: 008, Train: 0.4533, Val: 0.3997, Test: 0.4298\n",
            "Epoch: 009, Train: 0.4533, Val: 0.3997, Test: 0.4298\n",
            "Epoch: 010, Train: 0.4533, Val: 0.3997, Test: 0.4298\n",
            "Epoch: 011, Train: 0.4533, Val: 0.3997, Test: 0.4298\n",
            "Epoch: 012, Train: 0.4533, Val: 0.3997, Test: 0.4298\n",
            "Epoch: 013, Train: 0.4533, Val: 0.3997, Test: 0.4298\n",
            "Epoch: 014, Train: 0.4533, Val: 0.3997, Test: 0.4298\n",
            "Epoch: 015, Train: 0.4533, Val: 0.3997, Test: 0.4298\n",
            "Epoch: 016, Train: 0.4533, Val: 0.3997, Test: 0.4298\n",
            "Epoch: 017, Train: 0.4533, Val: 0.3997, Test: 0.4298\n",
            "Epoch: 018, Train: 0.4533, Val: 0.3997, Test: 0.4298\n",
            "Epoch: 019, Train: 0.4533, Val: 0.3997, Test: 0.4298\n",
            "Epoch: 020, Train: 0.4533, Val: 0.3997, Test: 0.4298\n",
            "Epoch: 021, Train: 0.4533, Val: 0.3997, Test: 0.4298\n",
            "Epoch: 022, Train: 0.4533, Val: 0.3997, Test: 0.4298\n",
            "Epoch: 023, Train: 0.4533, Val: 0.3997, Test: 0.4298\n",
            "Epoch: 024, Train: 0.4533, Val: 0.3997, Test: 0.4298\n",
            "Epoch: 025, Train: 0.4533, Val: 0.3997, Test: 0.4298\n",
            "Epoch: 026, Train: 0.4533, Val: 0.3997, Test: 0.4298\n",
            "Epoch: 027, Train: 0.4533, Val: 0.3997, Test: 0.4298\n",
            "Epoch: 028, Train: 0.4533, Val: 0.3997, Test: 0.4298\n",
            "Epoch: 029, Train: 0.4533, Val: 0.3997, Test: 0.4298\n",
            "Epoch: 030, Train: 0.4533, Val: 0.3997, Test: 0.4298\n",
            "Epoch: 031, Train: 0.4533, Val: 0.3997, Test: 0.4298\n",
            "Epoch: 032, Train: 0.4533, Val: 0.3997, Test: 0.4298\n",
            "Epoch: 033, Train: 0.4533, Val: 0.3997, Test: 0.4298\n",
            "Epoch: 034, Train: 0.4533, Val: 0.3997, Test: 0.4298\n",
            "Epoch: 035, Train: 0.4533, Val: 0.3997, Test: 0.4298\n",
            "Epoch: 036, Train: 0.4533, Val: 0.3997, Test: 0.4298\n",
            "Epoch: 037, Train: 0.4533, Val: 0.3997, Test: 0.4298\n",
            "Epoch: 038, Train: 0.4533, Val: 0.3997, Test: 0.4298\n",
            "Epoch: 039, Train: 0.4533, Val: 0.3997, Test: 0.4298\n",
            "Epoch: 040, Train: 0.4533, Val: 0.3997, Test: 0.4298\n",
            "Epoch: 041, Train: 0.4533, Val: 0.3997, Test: 0.4298\n",
            "Epoch: 042, Train: 0.4533, Val: 0.3997, Test: 0.4298\n",
            "Epoch: 043, Train: 0.4533, Val: 0.3997, Test: 0.4298\n",
            "Epoch: 044, Train: 0.4533, Val: 0.3997, Test: 0.4298\n",
            "Epoch: 045, Train: 0.4533, Val: 0.3997, Test: 0.4298\n",
            "Epoch: 046, Train: 0.4533, Val: 0.3997, Test: 0.4298\n",
            "Epoch: 047, Train: 0.4533, Val: 0.3997, Test: 0.4298\n",
            "Epoch: 048, Train: 0.4533, Val: 0.3997, Test: 0.4298\n",
            "Epoch: 049, Train: 0.4533, Val: 0.3997, Test: 0.4298\n",
            "Epoch: 050, Train: 0.4533, Val: 0.3997, Test: 0.4298\n",
            "Epoch: 051, Train: 0.4533, Val: 0.3997, Test: 0.4298\n",
            "Epoch: 052, Train: 0.4533, Val: 0.3997, Test: 0.4298\n",
            "Epoch: 053, Train: 0.4533, Val: 0.3997, Test: 0.4298\n",
            "Epoch: 054, Train: 0.4533, Val: 0.3997, Test: 0.4298\n",
            "Epoch: 055, Train: 0.4533, Val: 0.3997, Test: 0.4298\n",
            "Epoch: 056, Train: 0.4533, Val: 0.3997, Test: 0.4298\n",
            "Epoch: 057, Train: 0.4533, Val: 0.3997, Test: 0.4298\n",
            "Epoch: 058, Train: 0.4533, Val: 0.3997, Test: 0.4298\n",
            "Epoch: 059, Train: 0.4533, Val: 0.3997, Test: 0.4298\n",
            "Epoch: 060, Train: 0.4533, Val: 0.3997, Test: 0.4298\n",
            "Epoch: 061, Train: 0.4533, Val: 0.3997, Test: 0.4298\n",
            "Epoch: 062, Train: 0.4533, Val: 0.3997, Test: 0.4298\n",
            "Epoch: 063, Train: 0.4533, Val: 0.3997, Test: 0.4298\n",
            "Epoch: 064, Train: 0.4533, Val: 0.3997, Test: 0.4298\n",
            "Epoch: 065, Train: 0.4533, Val: 0.3997, Test: 0.4298\n",
            "Epoch: 066, Train: 0.4533, Val: 0.3997, Test: 0.4298\n",
            "Epoch: 067, Train: 0.4533, Val: 0.3997, Test: 0.4298\n",
            "Epoch: 068, Train: 0.4533, Val: 0.3997, Test: 0.4298\n",
            "Epoch: 069, Train: 0.4533, Val: 0.3997, Test: 0.4298\n",
            "Epoch: 070, Train: 0.4533, Val: 0.3997, Test: 0.4298\n",
            "Epoch: 071, Train: 0.4533, Val: 0.3997, Test: 0.4298\n",
            "Epoch: 072, Train: 0.4533, Val: 0.3997, Test: 0.4298\n",
            "Epoch: 073, Train: 0.4533, Val: 0.3997, Test: 0.4298\n",
            "Epoch: 074, Train: 0.4533, Val: 0.3997, Test: 0.4298\n",
            "Epoch: 075, Train: 0.4533, Val: 0.3997, Test: 0.4298\n",
            "Epoch: 076, Train: 0.4533, Val: 0.3997, Test: 0.4298\n",
            "Epoch: 077, Train: 0.4533, Val: 0.3997, Test: 0.4298\n",
            "Epoch: 078, Train: 0.4533, Val: 0.3997, Test: 0.4298\n",
            "Epoch: 079, Train: 0.4533, Val: 0.3997, Test: 0.4298\n",
            "Epoch: 080, Train: 0.4533, Val: 0.3997, Test: 0.4298\n",
            "Epoch: 081, Train: 0.4533, Val: 0.3997, Test: 0.4298\n",
            "Epoch: 082, Train: 0.4533, Val: 0.3997, Test: 0.4298\n",
            "Epoch: 083, Train: 0.4533, Val: 0.3997, Test: 0.4298\n",
            "Epoch: 084, Train: 0.4533, Val: 0.3997, Test: 0.4298\n",
            "Epoch: 085, Train: 0.4533, Val: 0.3997, Test: 0.4298\n",
            "Epoch: 086, Train: 0.4533, Val: 0.3997, Test: 0.4298\n",
            "Epoch: 087, Train: 0.4533, Val: 0.3997, Test: 0.4298\n",
            "Epoch: 088, Train: 0.4533, Val: 0.3997, Test: 0.4298\n",
            "Epoch: 089, Train: 0.4533, Val: 0.3997, Test: 0.4298\n",
            "Epoch: 090, Train: 0.4533, Val: 0.3997, Test: 0.4298\n",
            "Epoch: 091, Train: 0.4533, Val: 0.3997, Test: 0.4298\n",
            "Epoch: 092, Train: 0.4533, Val: 0.3997, Test: 0.4298\n",
            "Epoch: 093, Train: 0.4533, Val: 0.3997, Test: 0.4298\n",
            "Epoch: 094, Train: 0.4533, Val: 0.3997, Test: 0.4298\n",
            "Epoch: 095, Train: 0.4533, Val: 0.3997, Test: 0.4298\n",
            "Epoch: 096, Train: 0.4533, Val: 0.3997, Test: 0.4298\n",
            "Epoch: 097, Train: 0.4533, Val: 0.3997, Test: 0.4298\n",
            "Epoch: 098, Train: 0.4533, Val: 0.3997, Test: 0.4298\n",
            "Epoch: 099, Train: 0.4533, Val: 0.3997, Test: 0.4298\n",
            "Epoch: 100, Train: 0.4533, Val: 0.3997, Test: 0.4298\n"
          ],
          "name": "stdout"
        }
      ]
    },
    {
      "cell_type": "code",
      "metadata": {
        "id": "u1A5FrXHyghE"
      },
      "source": [
        "import torch\n",
        "import torch.nn.functional as F\n",
        "from torch_geometric.nn import GCNConv\n",
        "\n",
        "class Net(torch.nn.Module):\n",
        "    def __init__(self):\n",
        "        super(Net, self).__init__()\n",
        "        self.conv1 = GCNConv(test.num_node_features, 512)\n",
        "        self.conv2 = GCNConv(512, 512)\n",
        "        self.conv3 = GCNConv(512, 2)\n",
        "        #self.conv4 = GCNConv(16, 2)\n",
        "\n",
        "    def forward(self, data):\n",
        "        x, edge_index = data.x, data.edge_index\n",
        "\n",
        "        x = self.conv1(x, edge_index)\n",
        "        x = F.relu(x)\n",
        "        x = F.dropout(x, training=self.training)\n",
        "        x = self.conv2(x, edge_index)\n",
        "        x = F.relu(x)\n",
        "        x = F.dropout(x, training=self.training)\n",
        "        x = self.conv3(x, edge_index)\n",
        "        #x = F.relu(x)\n",
        "        #x = F.dropout(x, training=self.training)\n",
        "        #x = self.conv4(x, edge_index)\n",
        "\n",
        "        return F.log_softmax(x, dim=1)"
      ],
      "execution_count": null,
      "outputs": []
    },
    {
      "cell_type": "code",
      "metadata": {
        "id": "yXLE6bCpyhV7"
      },
      "source": [
        "device = torch.device('cuda' if torch.cuda.is_available() else 'cpu')\n",
        "model = Net().to(device)\n",
        "data = test.to(device)\n",
        "optimizer = torch.optim.Adam(model.parameters(), lr=0.0001, weight_decay=5e-4)\n",
        "\n",
        "model.train()\n",
        "for epoch in range(1):\n",
        "    optimizer.zero_grad()\n",
        "    out = model(data)\n",
        "    loss = F.nll_loss(out[data.train_mask], data.y[data.train_mask])\n",
        "    loss.backward()\n",
        "    optimizer.step()"
      ],
      "execution_count": null,
      "outputs": []
    },
    {
      "cell_type": "code",
      "metadata": {
        "id": "ixBROqY60JNU"
      },
      "source": [
        "model.eval()\n",
        "_, pred = model(data).max(dim=1)\n",
        "correct = int(pred[data.val_mask].eq(data.y[data.val_mask]).sum().item())\n",
        "acc = correct / int(data.val_mask.sum())\n",
        "print('Accuracy: {:.4f}'.format(acc))"
      ],
      "execution_count": null,
      "outputs": []
    },
    {
      "cell_type": "code",
      "metadata": {
        "id": "fYmHJ_CgN7-f"
      },
      "source": [
        "from sklearn.metrics import confusion_matrix"
      ],
      "execution_count": null,
      "outputs": []
    },
    {
      "cell_type": "code",
      "metadata": {
        "id": "UlKg69HWORgB"
      },
      "source": [
        "y_pred = pred[data.test_mask].cpu().data.numpy()"
      ],
      "execution_count": null,
      "outputs": []
    },
    {
      "cell_type": "code",
      "metadata": {
        "id": "gpNwYIepORnW"
      },
      "source": [
        "y_true = data.y[data.test_mask].cpu().data.numpy()"
      ],
      "execution_count": null,
      "outputs": []
    },
    {
      "cell_type": "code",
      "metadata": {
        "id": "rGGxEErwOVBy"
      },
      "source": [
        "cm = confusion_matrix(y_true, y_pred)"
      ],
      "execution_count": null,
      "outputs": []
    },
    {
      "cell_type": "code",
      "metadata": {
        "colab": {
          "base_uri": "https://localhost:8080/"
        },
        "id": "nhKv76DkGePT",
        "outputId": "8e9e9257-c08c-48d8-f4b8-d040f9bc5cac"
      },
      "source": [
        "cm"
      ],
      "execution_count": null,
      "outputs": [
        {
          "output_type": "execute_result",
          "data": {
            "text/plain": [
              "array([[6705,    0],\n",
              "       [8896,    0]])"
            ]
          },
          "metadata": {
            "tags": []
          },
          "execution_count": 226
        }
      ]
    },
    {
      "cell_type": "code",
      "metadata": {
        "colab": {
          "base_uri": "https://localhost:8080/",
          "height": 349
        },
        "id": "bW-5kXXeC_yX",
        "outputId": "270fc7cb-6a01-48db-9460-6a70b94783f4"
      },
      "source": [
        "import itertools\n",
        "import matplotlib.pyplot as plt\n",
        "\n",
        "def plot_confusion_matrix(cm, classes,\n",
        "                          normalize=False,\n",
        "                          title='Confusion matrix',\n",
        "                          cmap=plt.cm.Blues):\n",
        "    \"\"\"\n",
        "    This function prints and plots the confusion matrix.\n",
        "    Normalization can be applied by setting `normalize=True`.\n",
        "    \"\"\"\n",
        "    if normalize:\n",
        "        cm = cm.astype('float') / cm.sum(axis=1)[:, np.newaxis]\n",
        "        print(\"Normalized confusion matrix\")\n",
        "    else:\n",
        "        print('Confusion matrix, without normalization')\n",
        "\n",
        "    print(cm)\n",
        "\n",
        "    plt.imshow(cm, interpolation='nearest', cmap=cmap)\n",
        "    plt.title(title)\n",
        "    plt.colorbar()\n",
        "    tick_marks = np.arange(len(classes))\n",
        "    plt.xticks(tick_marks, classes, rotation=45)\n",
        "    plt.yticks(tick_marks, classes)\n",
        "\n",
        "    fmt = '.2f' if normalize else 'd'\n",
        "    thresh = cm.max() / 2.\n",
        "    for i, j in itertools.product(range(cm.shape[0]), range(cm.shape[1])):\n",
        "        plt.text(j, i, format(cm[i, j], fmt),\n",
        "                 horizontalalignment=\"center\",\n",
        "                 color=\"white\" if cm[i, j] > thresh else \"black\")\n",
        "\n",
        "    plt.ylabel('True label')\n",
        "    plt.xlabel('Predicted label')\n",
        "    plt.tight_layout()\n",
        "\n",
        "\n",
        "#Assumming that your predicted results are in csv. If not, you can still modify the example to suit your requirements\n",
        "\n",
        "# Plot non-normalized confusion matrix\n",
        "plt.figure()\n",
        "plot_confusion_matrix(cm,classes=['Fail','Success'],\n",
        "                      title='Confusion matrix, without normalization')"
      ],
      "execution_count": null,
      "outputs": [
        {
          "output_type": "stream",
          "text": [
            "Confusion matrix, without normalization\n",
            "[[   0 6705]\n",
            " [   0 8896]]\n"
          ],
          "name": "stdout"
        },
        {
          "output_type": "display_data",
          "data": {
            "image/png": "[encoded data removed]",
            "text/plain": [
              "<Figure size 432x288 with 2 Axes>"
            ]
          },
          "metadata": {
            "tags": [],
            "needs_background": "light"
          }
        }
      ]
    },
    {
      "cell_type": "code",
      "metadata": {
        "id": "iXqVXWY3CY1p"
      },
      "source": [
        "tp_and_fn = cm.sum(1)\n",
        "tp_and_fp = cm.sum(0)\n",
        "tp = cm.diagonal()\n",
        "\n",
        "precision = tp / tp_and_fp\n",
        "recall = tp / tp_and_fn"
      ],
      "execution_count": null,
      "outputs": []
    },
    {
      "cell_type": "code",
      "metadata": {
        "colab": {
          "base_uri": "https://localhost:8080/"
        },
        "id": "FBMhxkSvGrRb",
        "outputId": "134b7b78-58a6-4b30-b05a-dc261740bfdc"
      },
      "source": [
        "tp"
      ],
      "execution_count": null,
      "outputs": [
        {
          "output_type": "execute_result",
          "data": {
            "text/plain": [
              "array([   4, 3256])"
            ]
          },
          "metadata": {
            "tags": []
          },
          "execution_count": 330
        }
      ]
    },
    {
      "cell_type": "code",
      "metadata": {
        "colab": {
          "base_uri": "https://localhost:8080/"
        },
        "id": "MSUNLz_BGk3l",
        "outputId": "64b9de4f-7a05-4241-c871-9070541b5fe9"
      },
      "source": [
        "precision"
      ],
      "execution_count": null,
      "outputs": [
        {
          "output_type": "execute_result",
          "data": {
            "text/plain": [
              "array([0.57142857, 0.50677043])"
            ]
          },
          "metadata": {
            "tags": []
          },
          "execution_count": 331
        }
      ]
    },
    {
      "cell_type": "code",
      "metadata": {
        "colab": {
          "base_uri": "https://localhost:8080/"
        },
        "id": "2HiEXI6cGnWp",
        "outputId": "2e817d94-71f1-40d7-9114-0ee6a4431a8d"
      },
      "source": [
        "recall"
      ],
      "execution_count": null,
      "outputs": [
        {
          "output_type": "execute_result",
          "data": {
            "text/plain": [
              "array([0.00126064, 0.99907947])"
            ]
          },
          "metadata": {
            "tags": []
          },
          "execution_count": 332
        }
      ]
    },
    {
      "cell_type": "code",
      "metadata": {
        "colab": {
          "base_uri": "https://localhost:8080/"
        },
        "id": "GwKd9_jXPG3a",
        "outputId": "e2973e71-a85c-49bc-d7ad-7e8bd0d19015"
      },
      "source": [
        "from sklearn.metrics import classification_report\n",
        "print(classification_report(y_true, y_pred))"
      ],
      "execution_count": null,
      "outputs": [
        {
          "output_type": "stream",
          "text": [
            "              precision    recall  f1-score   support\n",
            "\n",
            "           0       0.46      0.00      0.00      3173\n",
            "           1       0.51      1.00      0.67      3259\n",
            "\n",
            "    accuracy                           0.51      6432\n",
            "   macro avg       0.48      0.50      0.34      6432\n",
            "weighted avg       0.48      0.51      0.34      6432\n",
            "\n"
          ],
          "name": "stdout"
        }
      ]
    },
    {
      "cell_type": "code",
      "metadata": {
        "colab": {
          "base_uri": "https://localhost:8080/"
        },
        "id": "L_RET031sy2m",
        "outputId": "eb2625e9-c01a-4d40-e91d-05456b3b8d08"
      },
      "source": [
        "from sklearn.metrics import recall_score\n",
        "recall_score(y_true, y_pred, average='weighted')"
      ],
      "execution_count": null,
      "outputs": [
        {
          "output_type": "execute_result",
          "data": {
            "text/plain": [
              "0.5065298507462687"
            ]
          },
          "metadata": {
            "tags": []
          },
          "execution_count": 373
        }
      ]
    },
    {
      "cell_type": "code",
      "metadata": {
        "colab": {
          "base_uri": "https://localhost:8080/"
        },
        "id": "etLpcWpvs2Wj",
        "outputId": "f63a6605-a0eb-40c5-8dfc-e209de16917e"
      },
      "source": [
        "from sklearn.metrics import precision_score\n",
        "precision_score(y_true, y_pred, average='weighted')"
      ],
      "execution_count": null,
      "outputs": [
        {
          "output_type": "execute_result",
          "data": {
            "text/plain": [
              "0.4843811064096632"
            ]
          },
          "metadata": {
            "tags": []
          },
          "execution_count": 374
        }
      ]
    },
    {
      "cell_type": "code",
      "metadata": {
        "colab": {
          "base_uri": "https://localhost:8080/"
        },
        "id": "6nO-ytQ8cnlx",
        "outputId": "e2ba1248-5a31-4e40-a951-6e61e8262ac3"
      },
      "source": [
        "from sklearn.metrics import f1_score\n",
        "f1_score(y_true, y_pred, average='binary')"
      ],
      "execution_count": null,
      "outputs": [
        {
          "output_type": "execute_result",
          "data": {
            "text/plain": [
              "0.6720396776193428"
            ]
          },
          "metadata": {
            "tags": []
          },
          "execution_count": 375
        }
      ]
    }
  ]
}